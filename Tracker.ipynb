{
 "cells": [
  {
   "cell_type": "code",
   "execution_count": null,
   "metadata": {},
   "outputs": [],
   "source": [
    "#Find the current position of the ISS\n",
    "import urllib.request\n",
    "import json\n",
    "from datetime import datetime\n",
    "\n",
    "req = urllib.request.Request(\"http://api.open-notify.org/iss-now.json\")\n",
    "response = urllib.request.urlopen(req)\n",
    "\n",
    "issObject = json.loads(response.read())\n",
    "now = datetime.now()\n",
    "\n",
    "# Prints Current Date and Time (Live)\n",
    "print(now)\n",
    "# Prints Current position of the ISS (Live)\n",
    "print(issObject['iss_position']['latitude'], issObject['iss_position']['longitude'])\n",
    "\n",
    "# ###########\n",
    "\n",
    "req = urllib.request.Request(\"http://api.open-notify.org/astros.json\")\n",
    "response = urllib.request.urlopen(req)\n",
    "\n",
    "astroObject = json.loads(response.read())\n",
    "\n",
    "# Prints the number of people in space from the last update to the API\n",
    "print('There are', astroObject['number'], 'humans in space!')\n",
    "# Prints the last update to the API of people in space\n",
    "print(astroObject['people'])"
   ]
  }
 ],
 "metadata": {
  "kernelspec": {
   "display_name": "Python 3",
   "language": "python",
   "name": "python3"
  },
  "language_info": {
   "codemirror_mode": {
    "name": "ipython",
    "version": 3
   },
   "file_extension": ".py",
   "mimetype": "text/x-python",
   "name": "python",
   "nbconvert_exporter": "python",
   "pygments_lexer": "ipython3",
   "version": "3.11.0"
  }
 },
 "nbformat": 4,
 "nbformat_minor": 2
}
